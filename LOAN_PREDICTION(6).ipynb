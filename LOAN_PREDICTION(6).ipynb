{
 "cells": [
  {
   "cell_type": "code",
   "execution_count": 96,
   "metadata": {
    "collapsed": false
   },
   "outputs": [],
   "source": [
    "import pandas as pd\n",
    "import numpy as np\n",
    "\n",
    "df=pd.read_csv(\"sample_submission_49d68Cx.csv\")\n",
    "df_train=pd.read_csv(\"train_ctrUa4K.csv\")\n",
    "df_test=pd.read_csv(\"test_lAUu6dG.csv\")\n",
    "x=df_test[\"Loan_ID\"]\n",
    "df_test.set_index(\"Loan_ID\",inplace=True)\n",
    "df_test.fillna(method=\"bfill\",inplace=True)\n",
    "df_test=pd.get_dummies(df_test)\n"
   ]
  },
  {
   "cell_type": "code",
   "execution_count": 97,
   "metadata": {
    "collapsed": false
   },
   "outputs": [],
   "source": [
    "\n",
    "df_train.set_index(\"Loan_ID\",inplace=True)\n",
    "df_train.fillna(method=\"bfill\",inplace=True)\n",
    "temp=df_train.Loan_Status\n",
    "df_train.drop([\"Loan_Status\"],axis=1,inplace=True)\n",
    "df_train=pd.get_dummies(df_train)\n",
    "df_train[\"Loan_Status\"]=temp\n",
    "df_train[\"Loan_Status\"].replace({'Y':1,\"N\":0},inplace=True)\n",
    "\n"
   ]
  },
  {
   "cell_type": "code",
   "execution_count": 106,
   "metadata": {
    "collapsed": false
   },
   "outputs": [],
   "source": [
    "y_train=df_train.Loan_Status\n",
    "X_train=df_train.loc[:,df_train.columns!='Loan_Status']\n"
   ]
  },
  {
   "cell_type": "code",
   "execution_count": 109,
   "metadata": {
    "collapsed": false
   },
   "outputs": [],
   "source": [
    "from sklearn.svm import SVC\n",
    "from sklearn.linear_model import LogisticRegression\n",
    "from sklearn.preprocessing import MinMaxScaler\n",
    "from sklearn.tree import DecisionTreeClassifier\n",
    "from sklearn.naive_bayes import GaussianNB\n",
    "from sklearn.neural_network import MLPClassifier\n",
    "from sklearn.ensemble import RandomForestClassifier\n",
    "\n",
    "scaler=MinMaxScaler()\n",
    "\n",
    "#X_train=scaler.fit_transform(X_train)\n",
    "#df_test=scaler.transform(df_test)\n",
    "clf = RandomForestClassifier(random_state=1,\n",
    "                                       criterion='gini',\n",
    "                                       n_estimators=100,\n",
    "                                       max_depth=5,\n",
    "                                       min_samples_split=3,\n",
    "                                       min_samples_leaf=5).fit(X_train, y_train)\n",
    "\n",
    "y=clf.predict(df_test)\n",
    "\n",
    "ans=pd.DataFrame({'Loan_ID':x,'Loan_Status':y})\n",
    "ans.replace({1:\"Y\",0:\"N\"},inplace=True)\n",
    "ans.to_csv(\"sum.csv\",index=False)\n"
   ]
  },
  {
   "cell_type": "code",
   "execution_count": null,
   "metadata": {
    "collapsed": true
   },
   "outputs": [],
   "source": []
  }
 ],
 "metadata": {
  "kernelspec": {
   "display_name": "Python 3",
   "language": "python",
   "name": "python3"
  },
  "language_info": {
   "codemirror_mode": {
    "name": "ipython",
    "version": 3
   },
   "file_extension": ".py",
   "mimetype": "text/x-python",
   "name": "python",
   "nbconvert_exporter": "python",
   "pygments_lexer": "ipython3",
   "version": "3.6.2"
  }
 },
 "nbformat": 4,
 "nbformat_minor": 1
}
